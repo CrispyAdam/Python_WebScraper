{
 "cells": [
  {
   "cell_type": "code",
   "execution_count": 213,
   "id": "b403d1cd-098a-4591-880e-fdc2f47ee66d",
   "metadata": {},
   "outputs": [],
   "source": [
    "from bs4 import BeautifulSoup\n",
    "import requests\n",
    "import pandas as pd\n",
    "from datetime import datetime\n",
    "import os\n",
    "import time"
   ]
  },
  {
   "cell_type": "code",
   "execution_count": 219,
   "id": "7bbacb01-5d8c-493d-b01f-678ac572f357",
   "metadata": {},
   "outputs": [],
   "source": [
    "def automated_crypto_pull():\n",
    "    url = 'https://coinmarketcap.com/currencies/bitcoin/'\n",
    "    \n",
    "    page = requests.get(url)\n",
    "    \n",
    "    soup = BeautifulSoup(page.text, 'html')\n",
    "    \n",
    "    crypto_name = soup.find('span', 'sc-65e7f566-0 lsTl' ).text\n",
    "    final_name = crypto_name.replace(' price\\xa0', '')\n",
    "    \n",
    "    crypto_price = soup.find('span', class_= 'sc-65e7f566-0 clvjgF base-text').text\n",
    "    final_price = crypto_price.replace('$', '') \n",
    "    \n",
    "    date_time = datetime.now()\n",
    "    \n",
    "    dict = {'Crypto Name': final_name,\n",
    "            'Price': final_price,\n",
    "           'TimeStamp': date_time}\n",
    "    \n",
    "    df = pd.DataFrame([dict])\n",
    "    \n",
    "    if os.path.exists(r'C:\\Users\\Chris\\Desktop\\Work\\Analyst Builder\\Crypto_Web_Scraper.csv'):\n",
    "        df.to_csv(r'C:\\Users\\Chris\\Desktop\\Work\\Analyst Builder\\Crypto_Web_Scraper.csv', mode='a', index = False ,header=False)\n",
    "    else:\n",
    "        df.to_csv(r'C:\\Users\\Chris\\Desktop\\Work\\Analyst Builder\\Crypto_Web_Scraper.csv', index = False)\n",
    "    print(df)"
   ]
  },
  {
   "cell_type": "code",
   "execution_count": null,
   "id": "d201cd63-7a06-4e9f-88a0-2d17b0202d74",
   "metadata": {},
   "outputs": [
    {
     "name": "stdout",
     "output_type": "stream",
     "text": [
      "  Crypto Name      Price                  TimeStamp\n",
      "0     Bitcoin  67,170.30 2024-07-21 23:20:04.639056\n",
      "  Crypto Name      Price                  TimeStamp\n",
      "0     Bitcoin  67,296.93 2024-07-22 16:12:44.817181\n",
      "  Crypto Name      Price                  TimeStamp\n",
      "0     Bitcoin  66,552.34 2024-07-23 16:03:24.221203\n"
     ]
    }
   ],
   "source": [
    "while True:\n",
    "    automated_crypto_pull()\n",
    "    time.sleep(21600)"
   ]
  },
  {
   "cell_type": "code",
   "execution_count": null,
   "id": "f5f0bebd-22f4-4826-bbc0-502022d42c1a",
   "metadata": {},
   "outputs": [],
   "source": []
  },
  {
   "cell_type": "code",
   "execution_count": null,
   "id": "52563471-8638-4644-b897-209f72bf80e3",
   "metadata": {},
   "outputs": [],
   "source": []
  }
 ],
 "metadata": {
  "kernelspec": {
   "display_name": "Python 3 (ipykernel)",
   "language": "python",
   "name": "python3"
  },
  "language_info": {
   "codemirror_mode": {
    "name": "ipython",
    "version": 3
   },
   "file_extension": ".py",
   "mimetype": "text/x-python",
   "name": "python",
   "nbconvert_exporter": "python",
   "pygments_lexer": "ipython3",
   "version": "3.11.5"
  }
 },
 "nbformat": 4,
 "nbformat_minor": 5
}
